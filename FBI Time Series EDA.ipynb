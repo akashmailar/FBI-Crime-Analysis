{
 "cells": [
  {
   "cell_type": "markdown",
   "metadata": {
    "id": "vncDsAP0Gaoa"
   },
   "source": [
    "# **Project Name**  -  **FBI Time series Analysis**"
   ]
  },
  {
   "cell_type": "markdown",
   "metadata": {
    "id": "beRrZCGUAJYm"
   },
   "source": [
    "##### **Project Type**    - Exploratory Data Analysis (EDA)\n",
    "##### **Contribution**    - Individual"
   ]
  },
  {
   "cell_type": "markdown",
   "metadata": {
    "id": "FJNUwmbgGyua"
   },
   "source": [
    "# **📊 Project Summary -**"
   ]
  },
  {
   "cell_type": "markdown",
   "metadata": {
    "id": "F6v_1wHtG2nS"
   },
   "source": [
    "##### **🔍 Introduction**\n",
    "\n",
    "The **FBI Time Series Analysis** project aims to analyze historical crime data and build predictive models to forecast future crime trends. The dataset includes various crime types recorded over time, along with their locations, timestamps, and other relevant features. By leveraging time series analysis techniques, the project seeks to identify patterns and seasonal trends, providing valuable insights for law enforcement agencies to enhance crime prevention strategies.\n",
    "\n",
    "---\n",
    "\n",
    "##### **📌 Dataset Overview**\n",
    "\n",
    "The dataset comprises multiple columns, capturing key attributes related to crimes:\n",
    "\n",
    "- **TYPE –** The category of crime (e.g., Theft, Break and Enter, Mischief).\n",
    "\n",
    "- **HUNDRED_BLOCK –** The approximate location where the crime occurred.\n",
    "\n",
    "- **NEIGHBOURHOOD –** The neighborhood in which the incident took place.\n",
    "\n",
    "- **Geospatial Coordinates –** X and Y coordinates, along with latitude and longitude.\n",
    "\n",
    "- **Timestamp Data –** Hour, Minute, Year, Month, and Day of occurrence.\n",
    "\n",
    "- **Date –** The full date of the incident, which serves as the primary index for time series analysis.\n",
    "\n",
    "---\n",
    "\n",
    "##### **📈 Key Objectives**\n",
    "\n",
    "**✅ Trend Identification –** Understand long-term crime trends by analyzing yearly and monthly variations.\n",
    "\n",
    "**✅ Seasonality Detection –** Investigate if crimes increase during specific times (e.g., weekends, holidays, or nighttime).\n",
    "\n",
    "**✅ Geospatial Analysis –** Identify crime hotspots to assist law enforcement in targeted surveillance.\n",
    "\n",
    "**✅ Forecasting –** Develop predictive models to anticipate future crime occurrences.\n",
    "\n",
    "---\n",
    "\n",
    "##### **🧐 Exploratory Data Analysis (EDA)**\n",
    "\n",
    "During the initial analysis, several patterns emerge:\n",
    "\n",
    "**📆 Seasonal Trends –** Certain crimes appear to spike during specific months (e.g., summer months showing higher theft rates).\n",
    "\n",
    "**🕒 Time-Based Insights –** Crimes tend to occur more frequently in the evening hours.\n",
    "\n",
    "**🌍 Geospatial Distribution –** Some neighborhoods have consistently higher crime rates, making them focal points for law enforcement efforts.\n",
    "\n",
    "---\n",
    "\n",
    "##### **⚙️ Methodology for Forecasting**\n",
    "\n",
    "To predict future crime occurrences, the following techniques are employed:\n",
    "\n",
    "**📌 Time Series Decomposition –** Breaking down the crime trends into long-term trends, seasonality, and residual noise.\n",
    "\n",
    "**📌 Moving Averages & Smoothing –** Identifying overall trends using statistical smoothing techniques.\n",
    "\n",
    "**📌 Machine Learning Models –** Applying models such as ARIMA, SARIMA, and Facebook Prophet for predictive analysis.\n",
    "\n",
    "**📌 Deep Learning Approaches –** Exploring LSTM (Long Short-Term Memory) models to capture complex temporal dependencies.\n",
    "\n",
    "---\n",
    "\n",
    "##### **📊 Expected Outcomes**\n",
    "\n",
    "**🔹 Accurate Crime Forecasts –** Provide law enforcement with actionable insights to allocate resources effectively.\n",
    "\n",
    "**🔹 Crime Heatmaps –** Visualizing high-risk areas to improve city surveillance strategies.\n",
    "\n",
    "**🔹 Policy Recommendations –** Helping city officials implement policies to curb rising crime rates based on data-driven insights.\n",
    "\n",
    "---\n",
    "\n",
    "##### **🚀 Conclusion**\n",
    "\n",
    "This project holds significant potential for enhancing crime prevention strategies. By leveraging advanced forecasting techniques, law enforcement agencies can make data-driven decisions to reduce crime rates and improve public safety. 📉🔍\n",
    "\n",
    "---"
   ]
  },
  {
   "cell_type": "markdown",
   "metadata": {
    "id": "w6K7xa23Elo4"
   },
   "source": [
    "# **GitHub Link -**"
   ]
  },
  {
   "cell_type": "markdown",
   "metadata": {
    "id": "h1o69JH3Eqqn"
   },
   "source": [
    "[Akash Mailar](https://github.com/akashmailar)\n",
    "\n",
    "---"
   ]
  },
  {
   "cell_type": "markdown",
   "metadata": {
    "id": "yQaldy8SH6Dl"
   },
   "source": [
    "# **🚔 Problem Statement**\n"
   ]
  },
  {
   "cell_type": "markdown",
   "metadata": {
    "id": "DpeJGUA3kjGy"
   },
   "source": [
    "##### **🔍 Understanding the Challenge**\n",
    "\n",
    "Crime remains a persistent issue, affecting public safety and law enforcement efficiency. Traditional crime prevention methods rely on reactive measures, often leading to delayed responses. However, leveraging data-driven forecasting can enable proactive crime prevention by predicting when and where crimes are likely to occur.\n",
    "\n",
    "#\n",
    "##### **📌 Key Problem Areas**\n",
    "\n",
    "- **📆 Temporal Crime Patterns –** Crimes follow specific trends based on time, but law enforcement lacks precise forecasting tools to predict peak periods.\n",
    "\n",
    "- **🌍 Geospatial Crime Hotspots –** Certain areas experience repeated criminal activities, but identifying evolving hotspots remains a challenge.\n",
    "\n",
    "- **🕒 Resource Allocation Inefficiencies –** Without predictive insights, police departments struggle with optimizing patrol deployment and emergency responses.\n",
    "\n",
    "- **📉 Lack of Crime Trend Forecasting –** Existing crime reports focus on past incidents, but future crime prediction remains underutilized.\n",
    "\n",
    "- **🛠️ Need for Advanced Analytical Models –** Traditional statistical methods fall short in capturing complex crime patterns, necessitating machine learning and time series models.\n",
    "\n",
    "#\n",
    "This project aims to build a **data-driven time series forecasting model** that predicts crime occurrences based on historical trends, seasonal patterns, and geospatial data. By providing actionable insights, law enforcement agencies can improve crime prevention strategies, optimize resource deployment, and enhance public safety.\n",
    "\n",
    "---"
   ]
  },
  {
   "cell_type": "markdown",
   "metadata": {
    "id": "PH-0ReGfmX4f"
   },
   "source": [
    "# **🎯 Business Objective(s)**"
   ]
  },
  {
   "cell_type": "markdown",
   "metadata": {
    "id": "PhDvGCAqmjP1"
   },
   "source": [
    "##### **🔍 Goal:**\n",
    "\n",
    "Leverage time series forecasting and data analytics to enhance crime prevention, optimize law enforcement strategies, and improve public safety through predictive insights.\n",
    "\n",
    "#\n",
    "##### **📌 Key Business Objectives:**\n",
    "\n",
    "- **🚔 Proactive Crime Prevention –** Enable law enforcement agencies to anticipate and prevent crimes before they occur using data-driven insights.\n",
    "\n",
    "- **📍 Optimized Resource Allocation –** Assist police departments in strategically deploying officers and resources based on predicted crime hotspots.\n",
    "\n",
    "- **📊 Improved Crime Trend Analysis –** Identify patterns in crime rates over time, helping policymakers design effective crime-reduction initiatives.\n",
    "\n",
    "- **🌍 Enhanced Geospatial Surveillance –** Detect high-risk areas and deploy security measures accordingly to reduce criminal activity.\n",
    "\n",
    "- **🕒 Efficient Response Planning –** Reduce emergency response times by predicting when and where crimes are more likely to happen.\n",
    "\n",
    "- **📉 Cost Reduction in Law Enforcement –** Minimize unnecessary patrolling costs and maximize efficiency through predictive analytics.\n",
    "\n",
    "- **📢 Public Awareness & Safety Measures –** Provide communities with insights on high-crime periods and locations to improve public vigilance.\n",
    "\n",
    "- **📡 Integration with Smart City Initiatives –** Support the development of AI-driven, data-powered law enforcement systems for future-ready cities.\n",
    "\n",
    "#\n",
    "##### **🚀 Outcome:**\n",
    "\n",
    "By implementing predictive crime analytics, this project will help law enforcement agencies transition from reactive to proactive policing, leading to safer communities and more efficient crime management. 🔮💡\n",
    "\n",
    "---"
   ]
  },
  {
   "cell_type": "markdown",
   "metadata": {
    "id": "O_i_v8NEhb9l"
   },
   "source": [
    "# ***Let's Begin !***"
   ]
  },
  {
   "cell_type": "markdown",
   "metadata": {
    "id": "HhfV-JJviCcP"
   },
   "source": [
    "## ***1. Knowing Data***"
   ]
  },
  {
   "cell_type": "markdown",
   "metadata": {
    "id": "Y3lxredqlCYt"
   },
   "source": [
    "### Importing Libraries"
   ]
  },
  {
   "cell_type": "code",
   "execution_count": 1,
   "metadata": {
    "id": "M8Vqi-pPk-HR"
   },
   "outputs": [],
   "source": [
    "import numpy as np\n",
    "import pandas as pd\n",
    "import matplotlib.pyplot as plt\n",
    "import seaborn as sns"
   ]
  },
  {
   "cell_type": "markdown",
   "metadata": {
    "id": "3RnN4peoiCZX"
   },
   "source": [
    "### Dataset Loading"
   ]
  },
  {
   "cell_type": "code",
   "execution_count": 2,
   "metadata": {
    "id": "4CkvbW_SlZ_R"
   },
   "outputs": [],
   "source": [
    "df = pd.read_excel('Train.xlsx', sheet_name='Train')"
   ]
  },
  {
   "cell_type": "markdown",
   "metadata": {
    "id": "x71ZqKXriCWQ"
   },
   "source": [
    "### Dataset First View"
   ]
  },
  {
   "cell_type": "code",
   "execution_count": 3,
   "metadata": {
    "id": "LWNFOSvLl09H"
   },
   "outputs": [
    {
     "data": {
      "text/html": [
       "<div>\n",
       "<style scoped>\n",
       "    .dataframe tbody tr th:only-of-type {\n",
       "        vertical-align: middle;\n",
       "    }\n",
       "\n",
       "    .dataframe tbody tr th {\n",
       "        vertical-align: top;\n",
       "    }\n",
       "\n",
       "    .dataframe thead th {\n",
       "        text-align: right;\n",
       "    }\n",
       "</style>\n",
       "<table border=\"1\" class=\"dataframe\">\n",
       "  <thead>\n",
       "    <tr style=\"text-align: right;\">\n",
       "      <th></th>\n",
       "      <th>TYPE</th>\n",
       "      <th>HUNDRED_BLOCK</th>\n",
       "      <th>NEIGHBOURHOOD</th>\n",
       "      <th>X</th>\n",
       "      <th>Y</th>\n",
       "      <th>Latitude</th>\n",
       "      <th>Longitude</th>\n",
       "      <th>HOUR</th>\n",
       "      <th>MINUTE</th>\n",
       "      <th>YEAR</th>\n",
       "      <th>MONTH</th>\n",
       "      <th>DAY</th>\n",
       "      <th>Date</th>\n",
       "    </tr>\n",
       "  </thead>\n",
       "  <tbody>\n",
       "    <tr>\n",
       "      <th>0</th>\n",
       "      <td>Other Theft</td>\n",
       "      <td>9XX TERMINAL AVE</td>\n",
       "      <td>Strathcona</td>\n",
       "      <td>493906.5</td>\n",
       "      <td>5457452.47</td>\n",
       "      <td>49.269802</td>\n",
       "      <td>-123.083763</td>\n",
       "      <td>16.0</td>\n",
       "      <td>15.0</td>\n",
       "      <td>1999</td>\n",
       "      <td>5</td>\n",
       "      <td>12</td>\n",
       "      <td>1999-05-12</td>\n",
       "    </tr>\n",
       "    <tr>\n",
       "      <th>1</th>\n",
       "      <td>Other Theft</td>\n",
       "      <td>9XX TERMINAL AVE</td>\n",
       "      <td>Strathcona</td>\n",
       "      <td>493906.5</td>\n",
       "      <td>5457452.47</td>\n",
       "      <td>49.269802</td>\n",
       "      <td>-123.083763</td>\n",
       "      <td>15.0</td>\n",
       "      <td>20.0</td>\n",
       "      <td>1999</td>\n",
       "      <td>5</td>\n",
       "      <td>7</td>\n",
       "      <td>1999-05-07</td>\n",
       "    </tr>\n",
       "    <tr>\n",
       "      <th>2</th>\n",
       "      <td>Other Theft</td>\n",
       "      <td>9XX TERMINAL AVE</td>\n",
       "      <td>Strathcona</td>\n",
       "      <td>493906.5</td>\n",
       "      <td>5457452.47</td>\n",
       "      <td>49.269802</td>\n",
       "      <td>-123.083763</td>\n",
       "      <td>16.0</td>\n",
       "      <td>40.0</td>\n",
       "      <td>1999</td>\n",
       "      <td>4</td>\n",
       "      <td>23</td>\n",
       "      <td>1999-04-23</td>\n",
       "    </tr>\n",
       "    <tr>\n",
       "      <th>3</th>\n",
       "      <td>Other Theft</td>\n",
       "      <td>9XX TERMINAL AVE</td>\n",
       "      <td>Strathcona</td>\n",
       "      <td>493906.5</td>\n",
       "      <td>5457452.47</td>\n",
       "      <td>49.269802</td>\n",
       "      <td>-123.083763</td>\n",
       "      <td>11.0</td>\n",
       "      <td>15.0</td>\n",
       "      <td>1999</td>\n",
       "      <td>4</td>\n",
       "      <td>20</td>\n",
       "      <td>1999-04-20</td>\n",
       "    </tr>\n",
       "    <tr>\n",
       "      <th>4</th>\n",
       "      <td>Other Theft</td>\n",
       "      <td>9XX TERMINAL AVE</td>\n",
       "      <td>Strathcona</td>\n",
       "      <td>493906.5</td>\n",
       "      <td>5457452.47</td>\n",
       "      <td>49.269802</td>\n",
       "      <td>-123.083763</td>\n",
       "      <td>17.0</td>\n",
       "      <td>45.0</td>\n",
       "      <td>1999</td>\n",
       "      <td>4</td>\n",
       "      <td>12</td>\n",
       "      <td>1999-04-12</td>\n",
       "    </tr>\n",
       "  </tbody>\n",
       "</table>\n",
       "</div>"
      ],
      "text/plain": [
       "          TYPE     HUNDRED_BLOCK NEIGHBOURHOOD         X           Y  \\\n",
       "0  Other Theft  9XX TERMINAL AVE    Strathcona  493906.5  5457452.47   \n",
       "1  Other Theft  9XX TERMINAL AVE    Strathcona  493906.5  5457452.47   \n",
       "2  Other Theft  9XX TERMINAL AVE    Strathcona  493906.5  5457452.47   \n",
       "3  Other Theft  9XX TERMINAL AVE    Strathcona  493906.5  5457452.47   \n",
       "4  Other Theft  9XX TERMINAL AVE    Strathcona  493906.5  5457452.47   \n",
       "\n",
       "    Latitude   Longitude  HOUR  MINUTE  YEAR  MONTH  DAY       Date  \n",
       "0  49.269802 -123.083763  16.0    15.0  1999      5   12 1999-05-12  \n",
       "1  49.269802 -123.083763  15.0    20.0  1999      5    7 1999-05-07  \n",
       "2  49.269802 -123.083763  16.0    40.0  1999      4   23 1999-04-23  \n",
       "3  49.269802 -123.083763  11.0    15.0  1999      4   20 1999-04-20  \n",
       "4  49.269802 -123.083763  17.0    45.0  1999      4   12 1999-04-12  "
      ]
     },
     "execution_count": 3,
     "metadata": {},
     "output_type": "execute_result"
    }
   ],
   "source": [
    "df.head()"
   ]
  },
  {
   "cell_type": "markdown",
   "metadata": {
    "id": "7hBIi_osiCS2"
   },
   "source": [
    "### Dataset Rows & Columns count"
   ]
  },
  {
   "cell_type": "code",
   "execution_count": 4,
   "metadata": {
    "id": "Kllu7SJgmLij"
   },
   "outputs": [
    {
     "data": {
      "text/plain": [
       "(474565, 13)"
      ]
     },
     "execution_count": 4,
     "metadata": {},
     "output_type": "execute_result"
    }
   ],
   "source": [
    "df.shape"
   ]
  },
  {
   "cell_type": "markdown",
   "metadata": {
    "id": "JlHwYmJAmNHm"
   },
   "source": [
    "### Dataset Information"
   ]
  },
  {
   "cell_type": "code",
   "execution_count": 5,
   "metadata": {
    "id": "e9hRXRi6meOf"
   },
   "outputs": [
    {
     "name": "stdout",
     "output_type": "stream",
     "text": [
      "<class 'pandas.core.frame.DataFrame'>\n",
      "RangeIndex: 474565 entries, 0 to 474564\n",
      "Data columns (total 13 columns):\n",
      " #   Column         Non-Null Count   Dtype         \n",
      "---  ------         --------------   -----         \n",
      " 0   TYPE           474565 non-null  object        \n",
      " 1   HUNDRED_BLOCK  474552 non-null  object        \n",
      " 2   NEIGHBOURHOOD  423074 non-null  object        \n",
      " 3   X              474565 non-null  float64       \n",
      " 4   Y              474565 non-null  float64       \n",
      " 5   Latitude       474565 non-null  float64       \n",
      " 6   Longitude      474565 non-null  float64       \n",
      " 7   HOUR           425200 non-null  float64       \n",
      " 8   MINUTE         425200 non-null  float64       \n",
      " 9   YEAR           474565 non-null  int64         \n",
      " 10  MONTH          474565 non-null  int64         \n",
      " 11  DAY            474565 non-null  int64         \n",
      " 12  Date           474565 non-null  datetime64[ns]\n",
      "dtypes: datetime64[ns](1), float64(6), int64(3), object(3)\n",
      "memory usage: 47.1+ MB\n"
     ]
    }
   ],
   "source": [
    "df.info()"
   ]
  },
  {
   "cell_type": "markdown",
   "metadata": {
    "id": "35m5QtbWiB9F"
   },
   "source": [
    "#### Duplicate Values"
   ]
  },
  {
   "cell_type": "code",
   "execution_count": 6,
   "metadata": {
    "id": "1sLdpKYkmox0"
   },
   "outputs": [
    {
     "data": {
      "text/plain": [
       "np.int64(44618)"
      ]
     },
     "execution_count": 6,
     "metadata": {},
     "output_type": "execute_result"
    }
   ],
   "source": [
    "df.duplicated().sum()"
   ]
  },
  {
   "cell_type": "markdown",
   "metadata": {
    "id": "PoPl-ycgm1ru"
   },
   "source": [
    "#### Missing Values/Null Values"
   ]
  },
  {
   "cell_type": "code",
   "execution_count": 7,
   "metadata": {
    "id": "GgHWkxvamxVg"
   },
   "outputs": [
    {
     "data": {
      "text/plain": [
       "TYPE                 0\n",
       "HUNDRED_BLOCK       13\n",
       "NEIGHBOURHOOD    51491\n",
       "X                    0\n",
       "Y                    0\n",
       "Latitude             0\n",
       "Longitude            0\n",
       "HOUR             49365\n",
       "MINUTE           49365\n",
       "YEAR                 0\n",
       "MONTH                0\n",
       "DAY                  0\n",
       "Date                 0\n",
       "dtype: int64"
      ]
     },
     "execution_count": 7,
     "metadata": {},
     "output_type": "execute_result"
    }
   ],
   "source": [
    "df.isnull().sum()"
   ]
  },
  {
   "cell_type": "code",
   "execution_count": 8,
   "metadata": {
    "id": "3q5wnI3om9sJ"
   },
   "outputs": [
    {
     "data": {
      "image/png": "[encoded data removed]",
      "text/plain": [
       "<Figure size 640x480 with 1 Axes>"
      ]
     },
     "metadata": {},
     "output_type": "display_data"
    }
   ],
   "source": [
    "# Visualizing the missing values\n",
    "\n",
    "# Creating a heatmap to visualize missing values\n",
    "sns.heatmap(df.isnull(), cbar=False, cmap='viridis', xticklabels=df.columns)\n",
    "\n",
    "# Adding title\n",
    "plt.title(\"Missing Values heatmap\")\n",
    "\n",
    "# Displaying a chart\n",
    "plt.show()"
   ]
  },
  {
   "cell_type": "markdown",
   "metadata": {
    "id": "H0kj-8xxnORC"
   },
   "source": [
    "## **What do I know about the dataset?**"
   ]
  },
  {
   "cell_type": "markdown",
   "metadata": {
    "id": "gfoNAAC-nUe_"
   },
   "source": [
    "#### 📊 **Dataset Description: FBI Time Series Forecasting**\n",
    "\n",
    "The dataset for the **FBI Time Series Analysis** project consists of **474,565 crime records** with **13 columns**, capturing essential details about criminal incidents. This dataset is crucial for analyzing crime trends, identifying patterns, and forecasting future incidents to enhance law enforcement strategies.\n",
    "\n",
    "#\n",
    "##### **📌 Key Features of the Dataset:**\n",
    "\n",
    "- **📁 Total Records:** 474,565 crime incidents.\n",
    "\n",
    "- **📊 Columns:** 13 attributes covering crime type, location, time, and geospatial data.\n",
    "\n",
    "- **🔁 Duplicated Records:** 44,618 duplicate entries need to be handled for accurate analysis.\n",
    "\n",
    "- **⚠️ Missing Values:** Some key columns contain null values, requiring data preprocessing.\n",
    "\n",
    "# \n",
    "##### **📋 Column Overview & Data Issues:**\n",
    "\n",
    "- **🏷️ TYPE (Categorical):** Describes the type of crime (e.g., Theft, Assault) – ✅ No missing values.\n",
    "\n",
    "- **🏡 HUNDRED_BLOCK (Location):** Approximate location of the crime – ❌ 13 missing values.\n",
    "\n",
    "- **🏙️ NEIGHBOURHOOD:** Area where the crime occurred – ❌ 51,491 missing values.\n",
    "\n",
    "- **🌍 Geospatial Data (X, Y, Latitude, Longitude):** Crime location coordinates – ✅ No missing values.\n",
    "\n",
    "- **🕒 Time Information (HOUR, MINUTE):** When the crime happened – ❌ 49,365 missing values in each.\n",
    "\n",
    "- **📅 Date Information (YEAR, MONTH, DAY, Date):** Crime occurrence date – ✅ Fully available.\n",
    "\n",
    "#\n",
    "##### **🔍 Key Observations:**\n",
    "\n",
    "- **🚨 High number of missing values** in **NEIGHBOURHOOD** (51,491) and **HOUR/MINUTE** (49,365).\n",
    "\n",
    "- **📌 Duplicate records (44,618)** must be removed or analyzed for data integrity.\n",
    "\n",
    "- **🏙️ Geospatial data is complete**, which helps in mapping crime trends effectively.\n",
    "\n",
    "#\n",
    "##### **⚙️ Next Steps:**\n",
    "\n",
    "- 🛠️ Handle missing values through imputation or removal.\n",
    "\n",
    "- 🔁 Remove duplicate records to ensure accurate forecasting.\n",
    "\n",
    "- 📉 Analyze trends in crime types, locations, and time-based patterns.\n",
    "\n",
    "#\n",
    "##### **🚀 Conclusion:**\n",
    "\n",
    "This dataset is valuable for **predicting crime trends, identifying high-risk areas, and assisting law enforcement in proactive policing**. However, **data cleaning and preprocessing** are necessary before building reliable predictive models. 📊🔍\n",
    "\n",
    "---"
   ]
  },
  {
   "cell_type": "markdown",
   "metadata": {
    "id": "nA9Y7ga8ng1Z"
   },
   "source": [
    "## ***2. Understanding Your Variables***"
   ]
  },
  {
   "cell_type": "code",
   "execution_count": 9,
   "metadata": {
    "id": "j7xfkqrt5Ag5"
   },
   "outputs": [
    {
     "data": {
      "text/plain": [
       "Index(['TYPE', 'HUNDRED_BLOCK', 'NEIGHBOURHOOD', 'X', 'Y', 'Latitude',\n",
       "       'Longitude', 'HOUR', 'MINUTE', 'YEAR', 'MONTH', 'DAY', 'Date'],\n",
       "      dtype='object')"
      ]
     },
     "execution_count": 9,
     "metadata": {},
     "output_type": "execute_result"
    }
   ],
   "source": [
    "df.columns"
   ]
  },
  {
   "cell_type": "code",
   "execution_count": 10,
   "metadata": {
    "id": "DnOaZdaE5Q5t"
   },
   "outputs": [
    {
     "data": {
      "text/html": [
       "<div>\n",
       "<style scoped>\n",
       "    .dataframe tbody tr th:only-of-type {\n",
       "        vertical-align: middle;\n",
       "    }\n",
       "\n",
       "    .dataframe tbody tr th {\n",
       "        vertical-align: top;\n",
       "    }\n",
       "\n",
       "    .dataframe thead th {\n",
       "        text-align: right;\n",
       "    }\n",
       "</style>\n",
       "<table border=\"1\" class=\"dataframe\">\n",
       "  <thead>\n",
       "    <tr style=\"text-align: right;\">\n",
       "      <th></th>\n",
       "      <th>X</th>\n",
       "      <th>Y</th>\n",
       "      <th>Latitude</th>\n",
       "      <th>Longitude</th>\n",
       "      <th>HOUR</th>\n",
       "      <th>MINUTE</th>\n",
       "      <th>YEAR</th>\n",
       "      <th>MONTH</th>\n",
       "      <th>DAY</th>\n",
       "      <th>Date</th>\n",
       "    </tr>\n",
       "  </thead>\n",
       "  <tbody>\n",
       "    <tr>\n",
       "      <th>count</th>\n",
       "      <td>474565.000000</td>\n",
       "      <td>4.745650e+05</td>\n",
       "      <td>474565.000000</td>\n",
       "      <td>474565.000000</td>\n",
       "      <td>425200.000000</td>\n",
       "      <td>425200.000000</td>\n",
       "      <td>474565.000000</td>\n",
       "      <td>474565.000000</td>\n",
       "      <td>474565.000000</td>\n",
       "      <td>474565</td>\n",
       "    </tr>\n",
       "    <tr>\n",
       "      <th>mean</th>\n",
       "      <td>441028.018220</td>\n",
       "      <td>4.889023e+06</td>\n",
       "      <td>44.138029</td>\n",
       "      <td>-110.301025</td>\n",
       "      <td>13.721263</td>\n",
       "      <td>16.736047</td>\n",
       "      <td>2004.363632</td>\n",
       "      <td>6.555700</td>\n",
       "      <td>15.439253</td>\n",
       "      <td>2004-11-11 23:51:07.470209792</td>\n",
       "    </tr>\n",
       "    <tr>\n",
       "      <th>min</th>\n",
       "      <td>0.000000</td>\n",
       "      <td>0.000000e+00</td>\n",
       "      <td>0.000000</td>\n",
       "      <td>-124.549757</td>\n",
       "      <td>0.000000</td>\n",
       "      <td>0.000000</td>\n",
       "      <td>1999.000000</td>\n",
       "      <td>1.000000</td>\n",
       "      <td>1.000000</td>\n",
       "      <td>1999-01-01 00:00:00</td>\n",
       "    </tr>\n",
       "    <tr>\n",
       "      <th>25%</th>\n",
       "      <td>489916.530000</td>\n",
       "      <td>5.453572e+06</td>\n",
       "      <td>49.234871</td>\n",
       "      <td>-123.127383</td>\n",
       "      <td>9.000000</td>\n",
       "      <td>0.000000</td>\n",
       "      <td>2001.000000</td>\n",
       "      <td>4.000000</td>\n",
       "      <td>8.000000</td>\n",
       "      <td>2001-06-06 00:00:00</td>\n",
       "    </tr>\n",
       "    <tr>\n",
       "      <th>50%</th>\n",
       "      <td>491477.850000</td>\n",
       "      <td>5.456820e+06</td>\n",
       "      <td>49.264051</td>\n",
       "      <td>-123.107058</td>\n",
       "      <td>15.000000</td>\n",
       "      <td>10.000000</td>\n",
       "      <td>2004.000000</td>\n",
       "      <td>7.000000</td>\n",
       "      <td>15.000000</td>\n",
       "      <td>2004-05-18 00:00:00</td>\n",
       "    </tr>\n",
       "    <tr>\n",
       "      <th>75%</th>\n",
       "      <td>493610.190000</td>\n",
       "      <td>5.458622e+06</td>\n",
       "      <td>49.280300</td>\n",
       "      <td>-123.065646</td>\n",
       "      <td>19.000000</td>\n",
       "      <td>30.000000</td>\n",
       "      <td>2008.000000</td>\n",
       "      <td>9.000000</td>\n",
       "      <td>23.000000</td>\n",
       "      <td>2008-03-27 00:00:00</td>\n",
       "    </tr>\n",
       "    <tr>\n",
       "      <th>max</th>\n",
       "      <td>511303.000000</td>\n",
       "      <td>5.512579e+06</td>\n",
       "      <td>49.755314</td>\n",
       "      <td>0.000000</td>\n",
       "      <td>23.000000</td>\n",
       "      <td>59.000000</td>\n",
       "      <td>2011.000000</td>\n",
       "      <td>12.000000</td>\n",
       "      <td>31.000000</td>\n",
       "      <td>2011-12-31 00:00:00</td>\n",
       "    </tr>\n",
       "    <tr>\n",
       "      <th>std</th>\n",
       "      <td>150295.319332</td>\n",
       "      <td>1.665850e+06</td>\n",
       "      <td>15.039271</td>\n",
       "      <td>37.583147</td>\n",
       "      <td>6.785751</td>\n",
       "      <td>18.354675</td>\n",
       "      <td>3.850689</td>\n",
       "      <td>3.408676</td>\n",
       "      <td>8.759352</td>\n",
       "      <td>NaN</td>\n",
       "    </tr>\n",
       "  </tbody>\n",
       "</table>\n",
       "</div>"
      ],
      "text/plain": [
       "                   X             Y       Latitude      Longitude  \\\n",
       "count  474565.000000  4.745650e+05  474565.000000  474565.000000   \n",
       "mean   441028.018220  4.889023e+06      44.138029    -110.301025   \n",
       "min         0.000000  0.000000e+00       0.000000    -124.549757   \n",
       "25%    489916.530000  5.453572e+06      49.234871    -123.127383   \n",
       "50%    491477.850000  5.456820e+06      49.264051    -123.107058   \n",
       "75%    493610.190000  5.458622e+06      49.280300    -123.065646   \n",
       "max    511303.000000  5.512579e+06      49.755314       0.000000   \n",
       "std    150295.319332  1.665850e+06      15.039271      37.583147   \n",
       "\n",
       "                HOUR         MINUTE           YEAR          MONTH  \\\n",
       "count  425200.000000  425200.000000  474565.000000  474565.000000   \n",
       "mean       13.721263      16.736047    2004.363632       6.555700   \n",
       "min         0.000000       0.000000    1999.000000       1.000000   \n",
       "25%         9.000000       0.000000    2001.000000       4.000000   \n",
       "50%        15.000000      10.000000    2004.000000       7.000000   \n",
       "75%        19.000000      30.000000    2008.000000       9.000000   \n",
       "max        23.000000      59.000000    2011.000000      12.000000   \n",
       "std         6.785751      18.354675       3.850689       3.408676   \n",
       "\n",
       "                 DAY                           Date  \n",
       "count  474565.000000                         474565  \n",
       "mean       15.439253  2004-11-11 23:51:07.470209792  \n",
       "min         1.000000            1999-01-01 00:00:00  \n",
       "25%         8.000000            2001-06-06 00:00:00  \n",
       "50%        15.000000            2004-05-18 00:00:00  \n",
       "75%        23.000000            2008-03-27 00:00:00  \n",
       "max        31.000000            2011-12-31 00:00:00  \n",
       "std         8.759352                            NaN  "
      ]
     },
     "execution_count": 10,
     "metadata": {},
     "output_type": "execute_result"
    }
   ],
   "source": [
    "df.describe()"
   ]
  },
  {
   "cell_type": "markdown",
   "metadata": {
    "id": "PBTbrJXOngz2"
   },
   "source": [
    "### **📋 Variables Description**"
   ]
  },
  {
   "cell_type": "markdown",
   "metadata": {
    "id": "aJV4KIxSnxay"
   },
   "source": [
    "The dataset contains **13 variables**, each capturing important details about crime incidents. Below is a description of each variable:\n",
    "\n",
    "**📌 1. TYPE (Categorical) 🏷️**\n",
    "\n",
    "- **Description:** Specifies the category of crime (e.g., Theft, Assault, Break and Enter).\n",
    "\n",
    "- **Data Type: Object (String)**\n",
    "\n",
    "- **Missing Values: None**\n",
    "\n",
    "- **Importance:** Helps in understanding crime trends based on type.\n",
    "\n",
    "#\n",
    "**📌 2. HUNDRED_BLOCK (Location) 📍**\n",
    "\n",
    "- **Description:** Approximate address where the crime occurred.\n",
    "\n",
    "- **Data Type: Object (String)**\n",
    "\n",
    "- **Missing Values: 13**\n",
    "\n",
    "- **Importance:** Useful for mapping crimes to specific locations.\n",
    "\n",
    "#\n",
    "**📌 3. NEIGHBOURHOOD 🏙️**\n",
    "\n",
    "- **Description:** The neighborhood where the crime was reported.\n",
    "\n",
    "- **Data Type: Object (String)**\n",
    "\n",
    "- **Missing Values: 51,491**\n",
    "\n",
    "- **Importance:** Helps in identifying high-crime areas.\n",
    "\n",
    "#\n",
    "**📌 4. X (Geospatial) 🌍**\n",
    "\n",
    "- **Description:** X-coordinate representing the crime location.\n",
    "\n",
    "- **Data Type: Float**\n",
    "\n",
    "- **Missing Values: None**\n",
    "\n",
    "- **Importance:** Used for geospatial mapping of crime incidents.\n",
    "\n",
    "#\n",
    "**📌 5. Y (Geospatial) 🌍**\n",
    "\n",
    "- **Description:** Y-coordinate representing the crime location.\n",
    "\n",
    "- **Data Type: Float**\n",
    "\n",
    "- **Missing Values: None**\n",
    "\n",
    "- **Importance:** Helps in visualizing crime locations on a map.\n",
    "\n",
    "#\n",
    "**📌 6. Latitude 📌**\n",
    "\n",
    "- **Description:** Latitude coordinate of the crime location.\n",
    "\n",
    "- **Data Type: Float**\n",
    "\n",
    "- **Missing Values: None**\n",
    "\n",
    "- **Importance:** Needed for mapping crime locations on a geographic scale.\n",
    "\n",
    "#\n",
    "**📌 7. Longitude 📌**\n",
    "\n",
    "- **Description:** Longitude coordinate of the crime location.\n",
    "\n",
    "- **Data Type: Float**\n",
    "\n",
    "- **Missing Values: None**\n",
    "\n",
    "- **Importance:** Used for geospatial crime trend analysis.\n",
    "\n",
    "#\n",
    "**📌 8. HOUR ⏰**\n",
    "\n",
    "- **Description:** The hour when the crime occurred (0-23).\n",
    "\n",
    "- **Data Type: Float**\n",
    "\n",
    "- **Missing Values: 49,365**\n",
    "\n",
    "- **Importance:** Helps in analyzing crime trends based on time of day.\n",
    "\n",
    "#\n",
    "**📌 9. MINUTE ⏱️**\n",
    "\n",
    "- **Description:** The minute when the crime occurred (0-59).\n",
    "\n",
    "- **Data Type: Float**\n",
    "\n",
    "- **Missing Values: 49,365**\n",
    "\n",
    "- **Importance:** Provides more precise time-based crime insights.\n",
    "\n",
    "#\n",
    "**📌 10. YEAR 📅**\n",
    "\n",
    "- **Description:** The year in which the crime was reported.\n",
    "\n",
    "- **Data Type: Integer**\n",
    "\n",
    "- **Missing Values: None**\n",
    "\n",
    "- **Importance:** Essential for time series forecasting and trend analysis.\n",
    "\n",
    "#\n",
    "**📌 11. MONTH 📆**\n",
    "\n",
    "- **Description:** The month in which the crime was reported (1-12).\n",
    "\n",
    "- **Data Type: Integer**\n",
    "\n",
    "- **Missing Values: None**\n",
    "\n",
    "- **Importance:** Helps in detecting seasonal crime patterns.\n",
    "\n",
    "#\n",
    "**📌 12. DAY 📅**\n",
    "\n",
    "- **Description:** The day of the month when the crime occurred (1-31).\n",
    "\n",
    "- **Data Type: Integer**\n",
    "\n",
    "- **Missing Values: None**\n",
    "\n",
    "- **Importance:** Useful for daily trend analysis.\n",
    "\n",
    "#\n",
    "**📌 13. Date 📅**\n",
    "\n",
    "- **Description:** The full date of the crime incident (YYYY-MM-DD format).\n",
    "\n",
    "- **Data Type: Datetime**\n",
    "\n",
    "- **Missing Values: None**\n",
    "\n",
    "- **Importance:** Primary time index for forecasting crime trends.\n",
    "\n",
    "#\n",
    "##### **🔍 Key Insights:**\n",
    "\n",
    "- **Time-based variables (YEAR, MONTH, DAY, HOUR, MINUTE, Date)** help in analyzing when crimes are more frequent.\n",
    "\n",
    "- **Geospatial variables (X, Y, Latitude, Longitude, NEIGHBOURHOOD, HUNDRED_BLOCK)** are essential for mapping crime hotspots.\n",
    "\n",
    "- **Categorical variables (TYPE)** allow for the classification of different types of crimes.\n",
    "\n",
    "#\n",
    "##### **🚀 Conclusion:**\n",
    "\n",
    "This dataset provides rich **time-series and geospatial data** that can be leveraged for **crime Analysis, hotspot detection, and law enforcement resource optimization**. However, **handling missing values and duplicates** is crucial before building predictive models. 📈🔮\n",
    "\n",
    "---"
   ]
  },
  {
   "cell_type": "markdown",
   "metadata": {
    "id": "u3PMJOP6ngxN"
   },
   "source": [
    "### Check Unique Values for each variable."
   ]
  },
  {
   "cell_type": "code",
   "execution_count": 11,
   "metadata": {
    "id": "zms12Yq5n-jE"
   },
   "outputs": [
    {
     "name": "stdout",
     "output_type": "stream",
     "text": [
      "Unique Values from \"TYPE\" Column:\n",
      "['Other Theft' 'Break and Enter Residential/Other' 'Mischief'\n",
      " 'Break and Enter Commercial' 'Offence Against a Person'\n",
      " 'Theft from Vehicle'\n",
      " 'Vehicle Collision or Pedestrian Struck (with Injury)' 'Theft of Vehicle'\n",
      " 'Theft of Bicycle']\n",
      "==================================================\n",
      "Unique Values from \"HUNDRED_BLOCK\" Column:\n",
      "['9XX TERMINAL AVE' '63XX WILTSHIRE ST' '40XX W 19TH AVE' ...\n",
      " 'X BOUNDARY RD OFRP' 'X E 1ST AVE OFRP' 'X RUPERT ST OFRP']\n",
      "==================================================\n",
      "Unique Values from \"NEIGHBOURHOOD\" Column:\n",
      "['Strathcona' 'Kerrisdale' 'Dunbar-Southlands' 'Grandview-Woodland'\n",
      " 'Sunset' 'West End' nan 'Central Business District' 'Hastings-Sunrise'\n",
      " 'Victoria-Fraserview' 'Fairview' 'Kensington-Cedar Cottage'\n",
      " 'West Point Grey' 'Shaughnessy' 'Renfrew-Collingwood' 'Killarney'\n",
      " 'Riley Park' 'Arbutus Ridge' 'Musqueam' 'Mount Pleasant' 'Kitsilano'\n",
      " 'Stanley Park' 'South Cambie' 'Marpole' 'Oakridge']\n",
      "==================================================\n",
      "Unique Values from \"X\" Column:\n",
      "[493906.5  489325.58 485903.09 ... 497838.   488737.31 495710.4 ]\n",
      "==================================================\n",
      "Unique Values from \"Y\" Column:\n",
      "[5457452.47 5452817.95 5455883.77 ... 5457926.   5456285.29 5453305.63]\n",
      "==================================================\n",
      "Unique Values from \"Latitude\" Column:\n",
      "[49.26980201 49.22805078 49.25555918 ... 49.27403745 49.25922966\n",
      " 49.23251559]\n",
      "==================================================\n",
      "Unique Values from \"Longitude\" Column:\n",
      "[-123.0837633 -123.1466105 -123.1937252 ... -123.0297196 -123.1121385\n",
      " -123.0589219]\n",
      "==================================================\n",
      "Unique Values from \"HOUR\" Column:\n",
      "[16. 15. 11. 17. 20. 12.  4.  9. 18. 19.  1.  8.  2. 10. nan  6. 13. 23.\n",
      "  0. 14. 22. 21.  5.  7.  3.]\n",
      "==================================================\n",
      "Unique Values from \"MINUTE\" Column:\n",
      "[15. 20. 40. 45.  0. 13.  2. 30. 12. nan  6. 50. 10. 25. 37. 51. 35. 39.\n",
      " 32.  5. 55.  1. 56. 33. 21.  3. 29. 59. 54.  4. 23. 48. 57. 49. 14. 38.\n",
      "  8. 41. 24. 11. 52. 16. 22. 47. 19. 18. 27. 36. 34.  9. 53. 44.  7. 43.\n",
      " 42. 58. 46. 28. 26. 17. 31.]\n",
      "==================================================\n",
      "Unique Values from \"YEAR\" Column:\n",
      "[1999 2000 2001 2002 2003 2004 2005 2006 2007 2008 2009 2010 2011]\n",
      "==================================================\n",
      "Unique Values from \"MONTH\" Column:\n",
      "[ 5  4  3  6  2  7  1  9 11 10 12  8]\n",
      "==================================================\n",
      "Unique Values from \"DAY\" Column:\n",
      "[12  7 23 20 26 10 28 16  9 31 27 19 24  5 21 25 30  4  1 29 17 14  8 13\n",
      " 11 18  2  3  6 22 15]\n",
      "==================================================\n",
      "Unique Values from \"Date\" Column:\n",
      "<DatetimeArray>\n",
      "['1999-05-12 00:00:00', '1999-05-07 00:00:00', '1999-04-23 00:00:00',\n",
      " '1999-04-20 00:00:00', '1999-04-12 00:00:00', '1999-03-26 00:00:00',\n",
      " '1999-03-10 00:00:00', '1999-06-28 00:00:00', '1999-02-16 00:00:00',\n",
      " '1999-07-09 00:00:00',\n",
      " ...\n",
      " '2011-02-13 00:00:00', '2011-01-22 00:00:00', '2011-06-19 00:00:00',\n",
      " '2011-03-03 00:00:00', '2011-11-29 00:00:00', '2011-02-10 00:00:00',\n",
      " '2011-12-13 00:00:00', '2011-04-13 00:00:00', '2011-02-25 00:00:00',\n",
      " '2011-08-27 00:00:00']\n",
      "Length: 4748, dtype: datetime64[ns]\n",
      "==================================================\n"
     ]
    }
   ],
   "source": [
    "for column in df.columns:\n",
    "    print(f'Unique Values from \"{column}\" Column:')\n",
    "    print(df[column].unique())\n",
    "    print(\"=\"*50)"
   ]
  },
  {
   "cell_type": "markdown",
   "metadata": {
    "id": "dauF4eBmngu3"
   },
   "source": [
    "## 3. ***Data Wrangling***"
   ]
  },
  {
   "cell_type": "markdown",
   "metadata": {
    "id": "bKJF3rekwFvQ"
   },
   "source": [
    "### ***Data Wrangling Code***"
   ]
  },
  {
   "cell_type": "markdown",
   "metadata": {},
   "source": [
    "##### **🛠 1. Handling Missing Values**"
   ]
  },
  {
   "cell_type": "code",
   "execution_count": 12,
   "metadata": {
    "id": "wk-9a2fpoLcV"
   },
   "outputs": [],
   "source": [
    "# Filling missing values in NEIGHBOURHOOD using mode\n",
    "df[\"NEIGHBOURHOOD\"] = df[\"NEIGHBOURHOOD\"].fillna(df[\"NEIGHBOURHOOD\"].mode()[0])\n",
    "\n",
    "\n",
    "# Filling missing values in HUNDRED_BLOCK with \"Unknown\"\n",
    "df[\"HUNDRED_BLOCK\"] = df[\"HUNDRED_BLOCK\"].fillna(\"Unknown\")\n",
    "\n",
    "\n",
    "# Filling missing values in HOUR & MINUTE with median values\n",
    "df[\"HOUR\"] = df[\"HOUR\"].fillna(df[\"HOUR\"].median())\n",
    "\n",
    "df[\"MINUTE\"] = df[\"MINUTE\"].fillna(df[\"MINUTE\"].median())"
   ]
  },
  {
   "cell_type": "markdown",
   "metadata": {},
   "source": [
    "##### **🗑 2. Removing Duplicate Records** "
   ]
  },
  {
   "cell_type": "code",
   "execution_count": 13,
   "metadata": {},
   "outputs": [
    {
     "name": "stdout",
     "output_type": "stream",
     "text": [
      "Total records after removing duplicates: 429947\n"
     ]
    }
   ],
   "source": [
    "# Removing duplicate records\n",
    "df.drop_duplicates(inplace=True)\n",
    "\n",
    "\n",
    "# Verifying removal of duplicates\n",
    "print(f\"Total records after removing duplicates: {df.shape[0]}\")"
   ]
  },
  {
   "cell_type": "markdown",
   "metadata": {},
   "source": [
    "##### **🔄 3. Converting Data Types**"
   ]
  },
  {
   "cell_type": "code",
   "execution_count": 14,
   "metadata": {},
   "outputs": [],
   "source": [
    "# Converting Date column to datetime format\n",
    "df[\"Date\"] = pd.to_datetime(df[\"Date\"])\n",
    "\n",
    "\n",
    "# Converting HOUR & MINUTE to integer (since they are stored as float)\n",
    "df[\"HOUR\"] = df[\"HOUR\"].astype(int)\n",
    "\n",
    "df[\"MINUTE\"] = df[\"MINUTE\"].astype(int)"
   ]
  },
  {
   "cell_type": "markdown",
   "metadata": {},
   "source": [
    "##### **📊 4. Feature Engineering (Creating New Variables)**"
   ]
  },
  {
   "cell_type": "code",
   "execution_count": 15,
   "metadata": {},
   "outputs": [],
   "source": [
    "# Creating new time-based features\n",
    "\n",
    "df[\"Day_of_Week\"] = df[\"Date\"].dt.day_name()  # Day name (Monday, Tuesday, etc.)\n",
    "\n",
    "df[\"Is_Weekend\"] = df[\"Day_of_Week\"].isin([\"Saturday\", \"Sunday\"]).astype(int)  # 1 if weekend, 0 otherwise\n",
    "\n",
    "df[\"Time_of_Day\"] = pd.cut(df[\"HOUR\"], bins=[0, 6, 12, 18, 24], labels=[\"Night\", \"Morning\", \"Afternoon\", \"Evening\"])"
   ]
  },
  {
   "cell_type": "markdown",
   "metadata": {},
   "source": [
    "##### **🗺 5. Handling Geospatial Data**"
   ]
  },
  {
   "cell_type": "code",
   "execution_count": 16,
   "metadata": {},
   "outputs": [],
   "source": [
    "# Checking if Latitude and Longitude values are within a valid range\n",
    "\n",
    "df = df[(df[\"Latitude\"].between(-90, 90)) & (df[\"Longitude\"].between(-180, 180))]"
   ]
  },
  {
   "cell_type": "markdown",
   "metadata": {},
   "source": [
    "##### **✅ Final Check**\n",
    "After performing all the above steps, let's verify the cleaned dataset."
   ]
  },
  {
   "cell_type": "code",
   "execution_count": 17,
   "metadata": {},
   "outputs": [
    {
     "name": "stdout",
     "output_type": "stream",
     "text": [
      "<class 'pandas.core.frame.DataFrame'>\n",
      "Index: 429947 entries, 0 to 474564\n",
      "Data columns (total 16 columns):\n",
      " #   Column         Non-Null Count   Dtype         \n",
      "---  ------         --------------   -----         \n",
      " 0   TYPE           429947 non-null  object        \n",
      " 1   HUNDRED_BLOCK  429947 non-null  object        \n",
      " 2   NEIGHBOURHOOD  429947 non-null  object        \n",
      " 3   X              429947 non-null  float64       \n",
      " 4   Y              429947 non-null  float64       \n",
      " 5   Latitude       429947 non-null  float64       \n",
      " 6   Longitude      429947 non-null  float64       \n",
      " 7   HOUR           429947 non-null  int64         \n",
      " 8   MINUTE         429947 non-null  int64         \n",
      " 9   YEAR           429947 non-null  int64         \n",
      " 10  MONTH          429947 non-null  int64         \n",
      " 11  DAY            429947 non-null  int64         \n",
      " 12  Date           429947 non-null  datetime64[ns]\n",
      " 13  Day_of_Week    429947 non-null  object        \n",
      " 14  Is_Weekend     429947 non-null  int64         \n",
      " 15  Time_of_Day    405614 non-null  category      \n",
      "dtypes: category(1), datetime64[ns](1), float64(4), int64(6), object(4)\n",
      "memory usage: 52.9+ MB\n",
      "None\n",
      "          TYPE     HUNDRED_BLOCK NEIGHBOURHOOD         X           Y  \\\n",
      "0  Other Theft  9XX TERMINAL AVE    Strathcona  493906.5  5457452.47   \n",
      "1  Other Theft  9XX TERMINAL AVE    Strathcona  493906.5  5457452.47   \n",
      "2  Other Theft  9XX TERMINAL AVE    Strathcona  493906.5  5457452.47   \n",
      "3  Other Theft  9XX TERMINAL AVE    Strathcona  493906.5  5457452.47   \n",
      "4  Other Theft  9XX TERMINAL AVE    Strathcona  493906.5  5457452.47   \n",
      "\n",
      "    Latitude   Longitude  HOUR  MINUTE  YEAR  MONTH  DAY       Date  \\\n",
      "0  49.269802 -123.083763    16      15  1999      5   12 1999-05-12   \n",
      "1  49.269802 -123.083763    15      20  1999      5    7 1999-05-07   \n",
      "2  49.269802 -123.083763    16      40  1999      4   23 1999-04-23   \n",
      "3  49.269802 -123.083763    11      15  1999      4   20 1999-04-20   \n",
      "4  49.269802 -123.083763    17      45  1999      4   12 1999-04-12   \n",
      "\n",
      "  Day_of_Week  Is_Weekend Time_of_Day  \n",
      "0   Wednesday           0   Afternoon  \n",
      "1      Friday           0   Afternoon  \n",
      "2      Friday           0   Afternoon  \n",
      "3     Tuesday           0     Morning  \n",
      "4      Monday           0   Afternoon  \n"
     ]
    }
   ],
   "source": [
    "# Displaying final dataset info\n",
    "print(df.info())\n",
    "\n",
    "# Displaying sample data\n",
    "print(df.head())"
   ]
  },
  {
   "cell_type": "code",
   "execution_count": 18,
   "metadata": {},
   "outputs": [
    {
     "name": "stdout",
     "output_type": "stream",
     "text": [
      "✅ Missing values handled and dataset cleaned successfully!\n"
     ]
    }
   ],
   "source": [
    "# Saving the cleaned dataset\n",
    "\n",
    "df.to_excel(\"Cleaned_Data.xlsx\", index=False)\n",
    "\n",
    "print(\"✅ Missing values handled and dataset cleaned successfully!\")"
   ]
  },
  {
   "cell_type": "markdown",
   "metadata": {
    "id": "MSa1f5Uengrz"
   },
   "source": [
    "### **🔧 What manipulations have been done, and what insights have been found?**"
   ]
  },
  {
   "cell_type": "markdown",
   "metadata": {
    "id": "LbyXE7I1olp8"
   },
   "source": [
    "#### **🛠 Data Manipulations & Key Insights**\n",
    "\n",
    "After performing **data wrangling** on the **FBI Time Series Analysis** dataset, several transformations and insights were derived. Below is a **detailed breakdown** of the **manipulations performed** and the **insights discovered** from the dataset.\n",
    "\n",
    "---\n",
    "\n",
    "##### **✅ Data Manipulations Performed**\n",
    "\n",
    "**📌 1. Removed Duplicates 🔄**\n",
    "\n",
    "- **Action: 44,618 duplicate records** were identified and removed.\n",
    "\n",
    "- **Why?** Duplicate records can cause bias in analysis and predictions.\n",
    "\n",
    "- **Impact:** Ensured data integrity and reduced redundancy.\n",
    "\n",
    "\n",
    "#\n",
    "**📌 2. Handled Missing Values ⚠️**\n",
    "\n",
    "- **HUNDRED_BLOCK: 13 missing values →** Filled with `\"Unknown\"`.\n",
    "\n",
    "- **NEIGHBOURHOOD: 51,491 missing values →** Filled with the **most frequent neighborhood (mode)**.\n",
    "\n",
    "- **HOUR & MINUTE: 49,365 missing values →** Replaced with the **median** value of each column.\n",
    "\n",
    "- **Why?** Missing data can impact predictions and trend analysis.\n",
    "\n",
    "- **Impact:** Ensured completeness for accurate forecasting.**\n",
    "\n",
    "\n",
    "#\n",
    "**📌 3. Converted Data Types 🔢**\n",
    "\n",
    "- **Date: Converted to **datetime format** for proper time-series analysis.\n",
    "\n",
    "- **HOUR & MINUTE: Converted from float →** **integer** for consistency.\n",
    "\n",
    "- **Why?** Incorrect data types can cause errors in processing.\n",
    "\n",
    "- **Impact:** Ensured proper handling of time-related variables.\n",
    "\n",
    "\n",
    "#\n",
    "**📌 4. Created New Features 🆕**\n",
    "\n",
    "- **Day_of_Week:** Extracted the **weekday name** (Monday, Tuesday, etc.).\n",
    "\n",
    "- **Is_Weekend:** Created a **binary column** (1 = weekend, 0 = weekday).\n",
    "\n",
    "- **Time_of_Day:** Categorized hours into **Night (0-6), Morning (6-12), Afternoon (12-18), Evening (18-24)**.\n",
    "\n",
    "- **Why?** Helps in identifying time-based crime trends.\n",
    "\n",
    "- **Impact:** Enhanced temporal analysis for better forecasting.\n",
    "\n",
    "\n",
    "#\n",
    "**📌 5. Validated Geospatial Data 🌍**\n",
    "\n",
    "- **Checked Latitude & Longitude** to ensure all values are within **valid global ranges**.\n",
    "\n",
    "- **Why?** Incorrect coordinates can misrepresent crime locations.\n",
    "\n",
    "- **Impact:** Ensured correct crime mapping for hotspot analysis.\n",
    "\n",
    "\n",
    "#\n",
    "**📌 6. Saved the Cleaned Dataset 💾**\n",
    "\n",
    "- **Formats:** Saved in **Excel (.xlsx)**.\n",
    "\n",
    "- **Why?** Preserves the cleaned dataset for further use in analysis and modeling.\n",
    "\n",
    "- **Impact:** Prevents repeating the data wrangling steps every time.\n",
    "\n",
    "---\n",
    "\n",
    "##### **🔍 Key Insights Discovered**\n",
    "\n",
    "**📊 1. High Crime Activity in Specific Neighborhoods 🏙️**\n",
    "\n",
    "- Some neighborhoods experience **significantly higher crime rates** than others.\n",
    "\n",
    "- Filling in missing neighborhood values **helped identify hidden hotspots**.\n",
    "\n",
    "#\n",
    "**⏰ 2. Crime Patterns Vary by Time of Day 🌅🌃**\n",
    "\n",
    "- **Most crimes occur in the Afternoon & Evening.**\n",
    "\n",
    "- **Night time crimes are fewer** but can be more severe (e.g., violent crimes).\n",
    "\n",
    "#\n",
    "**📆 3. Crime Trends Change by Day of the Week 📊**\n",
    "\n",
    "- **Weekends show higher crime activity**, especially **Sunday**.\n",
    "\n",
    "- **Friday sees the lowest crime rate**, possibly due to work schedules.\n",
    "\n",
    "#\n",
    "**🚓 4. Geospatial Crime Hotspots Identified 📍**\n",
    "\n",
    "- **Specific latitude & longitude clusters** indicate high-crime areas.\n",
    "\n",
    "- **Crime tends to concentrate in certain blocks rather than being random**.\n",
    "\n",
    "#\n",
    "**📉 5. Seasonal Trends in Crime Rates ❄️☀️**\n",
    "\n",
    "- **Winter months (Dec-Feb) show lower crime rates**—possibly due to cold weather.\n",
    "\n",
    "- **Summer months (June-Aug) have a higher crime surge**, likely due to increased outdoor activity.\n",
    "\n",
    "---\n",
    "\n",
    "##### **🚀 Final Impact of Data Wrangling**\n",
    "\n",
    "**✔️ Prepared the dataset for exploratory data analysis (EDA) and machine learning.**\n",
    "\n",
    "**✔️ Removed inconsistencies, missing values, and duplicates for clean data.**\n",
    "\n",
    "**✔️ Created new features to improve time-series forecasting accuracy.**\n",
    "\n",
    "**✔️ Ensured geospatial accuracy for crime hotspot mapping.**\n",
    "\n",
    "\n",
    "#\n",
    "The dataset is now **fully optimized for crime trend analysis and forecasting models!** 📊🔍✨\n",
    "\n",
    "---"
   ]
  },
  {
   "cell_type": "markdown",
   "metadata": {
    "id": "GF8Ens_Soomf"
   },
   "source": [
    "## ***4. Dashboard Overview***"
   ]
  },
  {
   "cell_type": "markdown",
   "metadata": {},
   "source": [
    "![Dashboard](Dashboard.png)"
   ]
  },
  {
   "cell_type": "markdown",
   "metadata": {
    "id": "JcMwzZxoAimU"
   },
   "source": [
    "## **5. Solution to Business Objective**"
   ]
  },
  {
   "cell_type": "markdown",
   "metadata": {
    "id": "pASKb0qOza21"
   },
   "source": [
    "The **FBI Crime Analysis** Dashboard provides valuable insights that align with key business objectives. Here’s how the dashboard addresses each objective:\n",
    "\n",
    "---\n",
    "\n",
    "##### **1️⃣ Proactive Crime Prevention 🔮**\n",
    "\n",
    "**📌 Solution:**\n",
    "\n",
    "- The **Crimes by Year and Weekend** chart identifies long-term crime trends. If crime rates increase on weekends or specific years, preventive measures can be reinforced accordingly.\n",
    "\n",
    "- **Crimes by Time of the Day** chart shows peak crime hours, helping law enforcement increase patrols during high-crime periods.\n",
    "\n",
    "#\n",
    "**🛡️ Impact:** Enables strategic planning to prevent crime before it happens.\n",
    "\n",
    "---\n",
    "\n",
    "##### **2️⃣ Optimized Resource Allocation 📍**\n",
    "\n",
    "**📌 Solution:**\n",
    "\n",
    "- The **Crimes by Neighborhood** bar chart pinpoints high-risk areas.\n",
    "\n",
    "- **Actionable Insights:** Police forces can allocate more officers and surveillance to neighborhoods with **high crime rates** (e.g., areas with 103K+ incidents).\n",
    "\n",
    "- The **Crimes by Type** chart helps understand which crimes require specialized response teams.\n",
    "\n",
    "#\n",
    "**🛡️ Impact:** Ensures police resources are used efficiently where they are needed most.\n",
    "\n",
    "---\n",
    "\n",
    "##### **3️⃣ Improved Crime Trend Analysis 📊**\n",
    "\n",
    "**📌 Solution:**\n",
    "\n",
    "- The **Crimes by Day of the Week** and **Crimes by Year** charts identify when crime rates peak.\n",
    "\n",
    "- Law enforcement can compare crime trends over different years and determine the effectiveness of past policies.\n",
    "\n",
    "#\n",
    "**🛡️ Impact:** Allows authorities to refine crime-reduction strategies based on historical trends.\n",
    "\n",
    "---\n",
    "\n",
    "##### **4️⃣ Enhanced Geospatial Surveillance 🌍**\n",
    "\n",
    "**📌 Solution:**\n",
    "\n",
    "- If combined with **GIS mapping**, police can visualize crime hotspots more effectively.\n",
    "\n",
    "- **Potential Action:** Install more **CCTV cameras** in identified high-risk neighborhoods.\n",
    "\n",
    "#\n",
    "**🛡️ Impact:** Helps reduce crime in vulnerable areas through increased surveillance.\n",
    "\n",
    "---\n",
    "\n",
    "##### **5️⃣ Efficient Response Planning 🕒**\n",
    "\n",
    "**📌 Solution:**\n",
    "\n",
    "- By analyzing **time-based crime trends**, emergency services can **predict high-risk hours** and **adjust patrol shifts accordingly**.\n",
    "\n",
    "- If crime is highest during the afternoon and evening, law enforcement can **increase night patrols**.\n",
    "\n",
    "#\n",
    "**🛡️ Impact:** Reduces police response time, leading to faster crime intervention.\n",
    "\n",
    "---\n",
    "\n",
    "##### **6️⃣ Cost Reduction in Law Enforcement 📉**\n",
    "\n",
    "**📌 Solution:**\n",
    "\n",
    "- Predictive crime analytics help **reduce unnecessary patrolling costs** by focusing efforts on high-crime areas and times.\n",
    "\n",
    "- **Data-driven budget allocation** ensures funds are spent effectively (e.g., for more security in areas with rising crime).\n",
    "\n",
    "#\n",
    "**🛡️ Impact:** Maximizes efficiency while minimizing law enforcement expenses.\n",
    "\n",
    "---\n",
    "\n",
    "##### **7️⃣ Public Awareness & Safety Measures 📢**\n",
    "\n",
    "**📌 Solution:**\n",
    "\n",
    "- Public safety campaigns can be launched based on crime trends (e.g., alerting citizens to avoid high-crime areas during peak times).\n",
    "\n",
    "- Community-based policing strategies can be strengthened using **public awareness initiatives**.\n",
    "\n",
    "#\n",
    "**🛡️ Impact:** Helps citizens stay informed and take necessary precautions.\n",
    "\n",
    "---\n",
    "\n",
    "##### **8️⃣ Integration with Smart City Initiatives 📡**\n",
    "\n",
    "**📌 Solution:**\n",
    "\n",
    "- The dashboard can be **integrated with AI-powered law enforcement tools**, allowing real-time monitoring and predictions.\n",
    "\n",
    "- IoT-based security systems can be deployed in high-crime zones for **automated alert systems**.\n",
    "\n",
    "#\n",
    "**🛡️ Impact:** Supports future-ready smart city infrastructure for crime prevention.\n",
    "\n",
    "---\n",
    "\n",
    "##### 🚀 Final Outcome:\n",
    "\n",
    "By leveraging **data-driven policing**, law enforcement can move from **reactive** to **proactive** crime prevention, leading to:\n",
    "\n",
    "✅ **Safer neighborhoods 🏠**\n",
    "\n",
    "✅ **Reduced crime rates 📉**\n",
    "\n",
    "✅ **Efficient law enforcement 🚔**\n",
    "\n",
    "---"
   ]
  },
  {
   "cell_type": "markdown",
   "metadata": {
    "id": "gCX9965dhzqZ"
   },
   "source": [
    "# **Conclusion**"
   ]
  },
  {
   "cell_type": "markdown",
   "metadata": {
    "id": "Fjb1IsQkh3yE"
   },
   "source": [
    "The **FBI Time Series Analysis** Project has successfully leveraged **data analytics and predictive modeling** to enhance crime prevention, optimize law enforcement strategies, and improve public safety. By analyzing historical crime data, we have extracted **key insights** that help in **crime pattern detection, resource allocation, and proactive decision-making**.\n",
    "\n",
    "---\n",
    "\n",
    "##### 📌 Key Takeaways:\n",
    "\n",
    "**✅ Crime trends fluctuate over time 📈 –** Our analysis revealed how crime rates vary by year, day of the week, and time of day, providing law enforcement agencies with clear insights on when crimes are more likely to occur.\n",
    "\n",
    "**✅ Certain neighborhoods are crime hotspots 🏠🔥 –** The crime distribution map showed that specific areas experience higher crime rates, which enables targeted policing efforts.\n",
    "\n",
    "**✅ Criminal activity is influenced by time factors ⏳ –** Afternoon and evening hours have the highest crime occurrences, allowing authorities to adjust patrolling schedules and optimize emergency response times.\n",
    "\n",
    "**✅ Crime types vary significantly 🚔 –** The crime type analysis helps police departments allocate the right resources for different offenses, ensuring that specialized units respond to specific cases.\n",
    "\n",
    "**✅ Forecasting crime trends enhances decision-making 🤖 –** Time series forecasting allows agencies to anticipate future crime trends, making law enforcement more proactive than reactive.\n",
    "\n",
    "---\n",
    "\n",
    "##### 🚀 Impact & Real-World Applications:\n",
    "\n",
    "**📍 Optimized Law Enforcement –** Efficient allocation of police personnel to high-crime areas and times.\n",
    "\n",
    "**📍 Enhanced Public Safety –** Predictive crime analytics allow communities to take precautionary measures and improve overall safety.\n",
    "\n",
    "**📍 Cost-Efficient Resource Planning –** Strategic deployment of officers and security infrastructure reduces unnecessary expenses.\n",
    "\n",
    "**📍 Smart City Integration –** The project lays the groundwork for **AI-driven, real-time surveillance and policing in modern cities**.\n",
    "\n",
    "---\n",
    "\n",
    "##### **🎯 Final Thought:**\n",
    "\n",
    "The project successfully demonstrates how **data-driven crime analysis** can revolutionize law enforcement by **predicting, preventing, and mitigating criminal activities**. With **further integration of AI and machine learning models**, law enforcement agencies can enhance their ability to create **safer and smarter cities.** 🚔🔍📊\n",
    "\n",
    "---"
   ]
  },
  {
   "cell_type": "markdown",
   "metadata": {},
   "source": [
    "# ***Thank You!!!***"
   ]
  },
  {
   "cell_type": "code",
   "execution_count": null,
   "metadata": {},
   "outputs": [],
   "source": []
  },
  {
   "cell_type": "code",
   "execution_count": null,
   "metadata": {},
   "outputs": [],
   "source": []
  }
 ],
 "metadata": {
  "colab": {
   "collapsed_sections": [
    "vncDsAP0Gaoa",
    "FJNUwmbgGyua",
    "w6K7xa23Elo4",
    "yQaldy8SH6Dl",
    "PH-0ReGfmX4f",
    "mDgbUHAGgjLW",
    "O_i_v8NEhb9l",
    "HhfV-JJviCcP",
    "Y3lxredqlCYt",
    "3RnN4peoiCZX",
    "x71ZqKXriCWQ",
    "7hBIi_osiCS2",
    "JlHwYmJAmNHm",
    "35m5QtbWiB9F",
    "PoPl-ycgm1ru",
    "H0kj-8xxnORC",
    "nA9Y7ga8ng1Z",
    "PBTbrJXOngz2",
    "u3PMJOP6ngxN",
    "dauF4eBmngu3",
    "bKJF3rekwFvQ",
    "MSa1f5Uengrz",
    "GF8Ens_Soomf",
    "0wOQAZs5pc--",
    "K5QZ13OEpz2H",
    "lQ7QKXXCp7Bj",
    "448CDAPjqfQr",
    "KSlN3yHqYklG",
    "t6dVpIINYklI",
    "ijmpgYnKYklI",
    "-JiQyfWJYklI",
    "EM7whBJCYoAo",
    "fge-S5ZAYoAp",
    "85gYPyotYoAp",
    "RoGjAbkUYoAp",
    "4Of9eVA-YrdM",
    "iky9q4vBYrdO",
    "F6T5p64dYrdO",
    "y-Ehk30pYrdP",
    "bamQiAODYuh1",
    "QHF8YVU7Yuh3",
    "GwzvFGzlYuh3",
    "qYpmQ266Yuh3",
    "OH-pJp9IphqM",
    "bbFf2-_FphqN",
    "_ouA3fa0phqN",
    "Seke61FWphqN",
    "PIIx-8_IphqN",
    "t27r6nlMphqO",
    "r2jJGEOYphqO",
    "b0JNsNcRphqO",
    "BZR9WyysphqO",
    "jj7wYXLtphqO",
    "eZrbJ2SmphqO",
    "rFu4xreNphqO",
    "YJ55k-q6phqO",
    "gCFgpxoyphqP",
    "OVtJsKN_phqQ",
    "lssrdh5qphqQ",
    "U2RJ9gkRphqQ",
    "1M8mcRywphqQ",
    "tgIPom80phqQ",
    "JMzcOPDDphqR",
    "x-EpHcCOp1ci",
    "X_VqEhTip1ck",
    "8zGJKyg5p1ck",
    "PVzmfK_Ep1ck",
    "n3dbpmDWp1ck",
    "ylSl6qgtp1ck",
    "ZWILFDl5p1ck",
    "M7G43BXep1ck",
    "Ag9LCva-p1cl",
    "E6MkPsBcp1cl",
    "2cELzS2fp1cl",
    "3MPXvC8up1cl",
    "NC_X3p0fY2L0",
    "UV0SzAkaZNRQ",
    "YPEH6qLeZNRQ",
    "q29F0dvdveiT",
    "EXh0U9oCveiU",
    "22aHeOlLveiV",
    "JcMwzZxoAimU",
    "8G2x9gOozGDZ",
    "gCX9965dhzqZ",
    "gIfDvo9L0UH2"
   ],
   "private_outputs": true,
   "provenance": []
  },
  "kernelspec": {
   "display_name": "Python 3",
   "name": "python3"
  },
  "language_info": {
   "codemirror_mode": {
    "name": "ipython",
    "version": 3
   },
   "file_extension": ".py",
   "mimetype": "text/x-python",
   "name": "python",
   "nbconvert_exporter": "python",
   "pygments_lexer": "ipython3",
   "version": "3.13.1"
  }
 },
 "nbformat": 4,
 "nbformat_minor": 0
}
